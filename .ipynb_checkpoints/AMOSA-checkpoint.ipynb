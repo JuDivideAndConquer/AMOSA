{
 "cells": [
  {
   "cell_type": "code",
   "execution_count": null,
   "metadata": {
    "colab": {
     "base_uri": "https://localhost:8080/",
     "height": 34
    },
    "colab_type": "code",
    "id": "pyTcQr2lBnZD",
    "outputId": "33431442-3e64-4a8a-c89f-f27da46bc82d"
   },
   "outputs": [],
   "source": [
    "!cp -r '/content/drive/My Drive/AMOSA'\n",
    "!chmod +x './hypervolume.py'\n",
    "!chmod +x './convergence.py'\n",
    "!chmod +x './amosa_real.py'\n"
   ]
  },
  {
   "cell_type": "code",
   "execution_count": null,
   "metadata": {
    "colab": {
     "base_uri": "https://localhost:8080/",
     "height": 1000
    },
    "colab_type": "code",
    "id": "tPvbdaVaBsBj",
    "outputId": "cd335f3e-9ad9-4d61-cd4f-e9ccc512fb6e"
   },
   "outputs": [],
   "source": [
    "!bash './experiment.sh' DTLZ1 3 0 'true_pareto_fronts/DTLZ1(3).csv'"
   ]
  }
 ],
 "metadata": {
  "colab": {
   "name": "AMOSA.ipynb",
   "provenance": []
  },
  "kernelspec": {
   "display_name": "Python 3",
   "language": "python",
   "name": "python3"
  },
  "language_info": {
   "codemirror_mode": {
    "name": "ipython",
    "version": 3
   },
   "file_extension": ".py",
   "mimetype": "text/x-python",
   "name": "python",
   "nbconvert_exporter": "python",
   "pygments_lexer": "ipython3",
   "version": "3.7.5rc1"
  }
 },
 "nbformat": 4,
 "nbformat_minor": 1
}
