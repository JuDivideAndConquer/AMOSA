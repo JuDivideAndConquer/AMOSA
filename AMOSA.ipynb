{
 "cells": [
  {
   "cell_type": "code",
   "execution_count": 2,
   "metadata": {},
   "outputs": [
    {
     "name": "stdout",
     "output_type": "stream",
     "text": [
      "AMOSA.ipynb\t     experiment_results    real_time_plot.py\r\n",
      "amosa.py\t     experiment.sh\t   ref_points_generator.py\r\n",
      "amosa.pyc\t     hypervolume.py\t   results\r\n",
      "amosa_real.py\t     init_sol.py\t   saplot1.out\r\n",
      "clustering.py\t     main_process.py\t   saplot.out\r\n",
      "convergence.py\t     objective_values.txt  test_func.py\r\n",
      "creating_archive.py  plot.py\t\t   test_func.pyc\r\n",
      "decision_values.txt  __pycache__\t   true_pareto_fronts\r\n",
      "dominance.py\t     real_mutate_ind.py\r\n"
     ]
    }
   ],
   "source": [
    "!ls"
   ]
  },
  {
   "cell_type": "code",
   "execution_count": null,
   "metadata": {},
   "outputs": [],
   "source": [
    "!"
   ]
  }
 ],
 "metadata": {
  "colab": {
   "name": "AMOSA.ipynb",
   "provenance": []
  },
  "kernelspec": {
   "display_name": "Python 3",
   "language": "python",
   "name": "python3"
  },
  "language_info": {
   "codemirror_mode": {
    "name": "ipython",
    "version": 3
   },
   "file_extension": ".py",
   "mimetype": "text/x-python",
   "name": "python",
   "nbconvert_exporter": "python",
   "pygments_lexer": "ipython3",
   "version": "3.7.5rc1"
  }
 },
 "nbformat": 4,
 "nbformat_minor": 1
}
