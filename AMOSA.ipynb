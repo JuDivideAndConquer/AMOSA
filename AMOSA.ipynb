{
  "nbformat": 4,
  "nbformat_minor": 0,
  "metadata": {
    "colab": {
      "name": "AMOSA.ipynb",
      "provenance": []
    },
    "kernelspec": {
      "display_name": "Python 3",
      "language": "python",
      "name": "python3"
    },
    "language_info": {
      "codemirror_mode": {
        "name": "ipython",
        "version": 3
      },
      "file_extension": ".py",
      "mimetype": "text/x-python",
      "name": "python",
      "nbconvert_exporter": "python",
      "pygments_lexer": "ipython3",
      "version": "3.7.5rc1"
    }
  },
  "cells": [
    {
      "cell_type": "markdown",
      "metadata": {
        "id": "TyXFGiMfA21s",
        "colab_type": "text"
      },
      "source": [
        "## Ment to be run in Google Colab only"
      ]
    },
    {
      "cell_type": "code",
      "metadata": {
        "id": "YuKdWTse9RUQ",
        "colab_type": "code",
        "colab": {
          "base_uri": "https://localhost:8080/",
          "height": 136
        },
        "outputId": "03c8bb0a-55c7-4aab-eb40-267e266d7a39"
      },
      "source": [
        "!git clone https://github.com/JuDivideAndConquer/AMOSA.git"
      ],
      "execution_count": 3,
      "outputs": [
        {
          "output_type": "stream",
          "text": [
            "Cloning into 'AMOSA'...\n",
            "remote: Enumerating objects: 386, done.\u001b[K\n",
            "remote: Counting objects:   0% (1/386)\u001b[K\rremote: Counting objects:   1% (4/386)\u001b[K\rremote: Counting objects:   2% (8/386)\u001b[K\rremote: Counting objects:   3% (12/386)\u001b[K\rremote: Counting objects:   4% (16/386)\u001b[K\rremote: Counting objects:   5% (20/386)\u001b[K\rremote: Counting objects:   6% (24/386)\u001b[K\rremote: Counting objects:   7% (28/386)\u001b[K\rremote: Counting objects:   8% (31/386)\u001b[K\rremote: Counting objects:   9% (35/386)\u001b[K\rremote: Counting objects:  10% (39/386)\u001b[K\rremote: Counting objects:  11% (43/386)\u001b[K\rremote: Counting objects:  12% (47/386)\u001b[K\rremote: Counting objects:  13% (51/386)\u001b[K\rremote: Counting objects:  14% (55/386)\u001b[K\rremote: Counting objects:  15% (58/386)\u001b[K\rremote: Counting objects:  16% (62/386)\u001b[K\rremote: Counting objects:  17% (66/386)\u001b[K\rremote: Counting objects:  18% (70/386)\u001b[K\rremote: Counting objects:  19% (74/386)\u001b[K\rremote: Counting objects:  20% (78/386)\u001b[K\rremote: Counting objects:  21% (82/386)\u001b[K\rremote: Counting objects:  22% (85/386)\u001b[K\rremote: Counting objects:  23% (89/386)\u001b[K\rremote: Counting objects:  24% (93/386)\u001b[K\rremote: Counting objects:  25% (97/386)\u001b[K\rremote: Counting objects:  26% (101/386)\u001b[K\rremote: Counting objects:  27% (105/386)\u001b[K\rremote: Counting objects:  28% (109/386)\u001b[K\rremote: Counting objects:  29% (112/386)\u001b[K\rremote: Counting objects:  30% (116/386)\u001b[K\rremote: Counting objects:  31% (120/386)\u001b[K\rremote: Counting objects:  32% (124/386)\u001b[K\rremote: Counting objects:  33% (128/386)\u001b[K\rremote: Counting objects:  34% (132/386)\u001b[K\rremote: Counting objects:  35% (136/386)\u001b[K\rremote: Counting objects:  36% (139/386)\u001b[K\rremote: Counting objects:  37% (143/386)\u001b[K\rremote: Counting objects:  38% (147/386)\u001b[K\rremote: Counting objects:  39% (151/386)\u001b[K\rremote: Counting objects:  40% (155/386)\u001b[K\rremote: Counting objects:  41% (159/386)\u001b[K\rremote: Counting objects:  42% (163/386)\u001b[K\rremote: Counting objects:  43% (166/386)\u001b[K\rremote: Counting objects:  44% (170/386)\u001b[K\rremote: Counting objects:  45% (174/386)\u001b[K\rremote: Counting objects:  46% (178/386)\u001b[K\rremote: Counting objects:  47% (182/386)\u001b[K\rremote: Counting objects:  48% (186/386)\u001b[K\rremote: Counting objects:  49% (190/386)\u001b[K\rremote: Counting objects:  50% (193/386)\u001b[K\rremote: Counting objects:  51% (197/386)\u001b[K\rremote: Counting objects:  52% (201/386)\u001b[K\rremote: Counting objects:  53% (205/386)\u001b[K\rremote: Counting objects:  54% (209/386)\u001b[K\rremote: Counting objects:  55% (213/386)\u001b[K\rremote: Counting objects:  56% (217/386)\u001b[K\rremote: Counting objects:  57% (221/386)\u001b[K\rremote: Counting objects:  58% (224/386)\u001b[K\rremote: Counting objects:  59% (228/386)\u001b[K\rremote: Counting objects:  60% (232/386)\u001b[K\rremote: Counting objects:  61% (236/386)\u001b[K\rremote: Counting objects:  62% (240/386)\u001b[K\rremote: Counting objects:  63% (244/386)\u001b[K\rremote: Counting objects:  64% (248/386)\u001b[K\rremote: Counting objects:  65% (251/386)\u001b[K\rremote: Counting objects:  66% (255/386)\u001b[K\rremote: Counting objects:  67% (259/386)\u001b[K\rremote: Counting objects:  68% (263/386)\u001b[K\rremote: Counting objects:  69% (267/386)\u001b[K\rremote: Counting objects:  70% (271/386)\u001b[K\rremote: Counting objects:  71% (275/386)\u001b[K\rremote: Counting objects:  72% (278/386)\u001b[K\rremote: Counting objects:  73% (282/386)\u001b[K\rremote: Counting objects:  74% (286/386)\u001b[K\rremote: Counting objects:  75% (290/386)\u001b[K\rremote: Counting objects:  76% (294/386)\u001b[K\rremote: Counting objects:  77% (298/386)\u001b[K\rremote: Counting objects:  78% (302/386)\u001b[K\rremote: Counting objects:  79% (305/386)\u001b[K\rremote: Counting objects:  80% (309/386)\u001b[K\rremote: Counting objects:  81% (313/386)\u001b[K\rremote: Counting objects:  82% (317/386)\u001b[K\rremote: Counting objects:  83% (321/386)\u001b[K\rremote: Counting objects:  84% (325/386)\u001b[K\rremote: Counting objects:  85% (329/386)\u001b[K\rremote: Counting objects:  86% (332/386)\u001b[K\rremote: Counting objects:  87% (336/386)\u001b[K\rremote: Counting objects:  88% (340/386)\u001b[K\rremote: Counting objects:  89% (344/386)\u001b[K\rremote: Counting objects:  90% (348/386)\u001b[K\rremote: Counting objects:  91% (352/386)\u001b[K\rremote: Counting objects:  92% (356/386)\u001b[K\rremote: Counting objects:  93% (359/386)\u001b[K\rremote: Counting objects:  94% (363/386)\u001b[K\rremote: Counting objects:  95% (367/386)\u001b[K\rremote: Counting objects:  96% (371/386)\u001b[K\rremote: Counting objects:  97% (375/386)\u001b[K\rremote: Counting objects:  98% (379/386)\u001b[K\rremote: Counting objects:  99% (383/386)\u001b[K\rremote: Counting objects: 100% (386/386)\u001b[K\rremote: Counting objects: 100% (386/386), done.\u001b[K\n",
            "remote: Compressing objects:   0% (1/358)\u001b[K\rremote: Compressing objects:   1% (4/358)\u001b[K\rremote: Compressing objects:   2% (8/358)\u001b[K\rremote: Compressing objects:   3% (11/358)\u001b[K\rremote: Compressing objects:   4% (15/358)\u001b[K\rremote: Compressing objects:   5% (18/358)\u001b[K\rremote: Compressing objects:   6% (22/358)\u001b[K\rremote: Compressing objects:   7% (26/358)\u001b[K\rremote: Compressing objects:   8% (29/358)\u001b[K\rremote: Compressing objects:   9% (33/358)\u001b[K\rremote: Compressing objects:  10% (36/358)\u001b[K\rremote: Compressing objects:  11% (40/358)\u001b[K\rremote: Compressing objects:  12% (43/358)\u001b[K\rremote: Compressing objects:  13% (47/358)\u001b[K\rremote: Compressing objects:  14% (51/358)\u001b[K\rremote: Compressing objects:  15% (54/358)\u001b[K\rremote: Compressing objects:  16% (58/358)\u001b[K\rremote: Compressing objects:  17% (61/358)\u001b[K\rremote: Compressing objects:  18% (65/358)\u001b[K\rremote: Compressing objects:  19% (69/358)\u001b[K\rremote: Compressing objects:  20% (72/358)\u001b[K\rremote: Compressing objects:  21% (76/358)\u001b[K\rremote: Compressing objects:  22% (79/358)\u001b[K\rremote: Compressing objects:  23% (83/358)\u001b[K\rremote: Compressing objects:  24% (86/358)\u001b[K\rremote: Compressing objects:  25% (90/358)\u001b[K\rremote: Compressing objects:  26% (94/358)\u001b[K\rremote: Compressing objects:  27% (97/358)\u001b[K\rremote: Compressing objects:  28% (101/358)\u001b[K\rremote: Compressing objects:  29% (104/358)\u001b[K\rremote: Compressing objects:  30% (108/358)\u001b[K\rremote: Compressing objects:  31% (111/358)\u001b[K\rremote: Compressing objects:  32% (115/358)\u001b[K\rremote: Compressing objects:  33% (119/358)\u001b[K\rremote: Compressing objects:  34% (122/358)\u001b[K\rremote: Compressing objects:  35% (126/358)\u001b[K\rremote: Compressing objects:  36% (129/358)\u001b[K\rremote: Compressing objects:  37% (133/358)\u001b[K\rremote: Compressing objects:  38% (137/358)\u001b[K\rremote: Compressing objects:  39% (140/358)\u001b[K\rremote: Compressing objects:  40% (144/358)\u001b[K\rremote: Compressing objects:  41% (147/358)\u001b[K\rremote: Compressing objects:  42% (151/358)\u001b[K\rremote: Compressing objects:  43% (154/358)\u001b[K\rremote: Compressing objects:  44% (158/358)\u001b[K\rremote: Compressing objects:  45% (162/358)\u001b[K\rremote: Compressing objects:  46% (165/358)\u001b[K\rremote: Compressing objects:  47% (169/358)\u001b[K\rremote: Compressing objects:  48% (172/358)\u001b[K\rremote: Compressing objects:  49% (176/358)\u001b[K\rremote: Compressing objects:  50% (179/358)\u001b[K\rremote: Compressing objects:  51% (183/358)\u001b[K\rremote: Compressing objects:  52% (187/358)\u001b[K\rremote: Compressing objects:  53% (190/358)\u001b[K\rremote: Compressing objects:  54% (194/358)\u001b[K\rremote: Compressing objects:  55% (197/358)\u001b[K\rremote: Compressing objects:  56% (201/358)\u001b[K\rremote: Compressing objects:  57% (205/358)\u001b[K\rremote: Compressing objects:  58% (208/358)\u001b[K\rremote: Compressing objects:  59% (212/358)\u001b[K\rremote: Compressing objects:  60% (215/358)\u001b[K\rremote: Compressing objects:  61% (219/358)\u001b[K\rremote: Compressing objects:  62% (222/358)\u001b[K\rremote: Compressing objects:  63% (226/358)\u001b[K\rremote: Compressing objects:  64% (230/358)\u001b[K\rremote: Compressing objects:  65% (233/358)\u001b[K\rremote: Compressing objects:  66% (237/358)\u001b[K\rremote: Compressing objects:  67% (240/358)\u001b[K\rremote: Compressing objects:  68% (244/358)\u001b[K\rremote: Compressing objects:  69% (248/358)\u001b[K\rremote: Compressing objects:  70% (251/358)\u001b[K\rremote: Compressing objects:  71% (255/358)\u001b[K\rremote: Compressing objects:  72% (258/358)\u001b[K\rremote: Compressing objects:  73% (262/358)\u001b[K\rremote: Compressing objects:  74% (265/358)\u001b[K\rremote: Compressing objects:  75% (269/358)\u001b[K\rremote: Compressing objects:  76% (273/358)\u001b[K\rremote: Compressing objects:  77% (276/358)\u001b[K\rremote: Compressing objects:  78% (280/358)\u001b[K\rremote: Compressing objects:  79% (283/358)\u001b[K\rremote: Compressing objects:  80% (287/358)\u001b[K\rremote: Compressing objects:  81% (290/358)\u001b[K\rremote: Compressing objects:  82% (294/358)\u001b[K\rremote: Compressing objects:  83% (298/358)\u001b[K\rremote: Compressing objects:  84% (301/358)\u001b[K\rremote: Compressing objects:  85% (305/358)\u001b[K\rremote: Compressing objects:  86% (308/358)\u001b[K\rremote: Compressing objects:  87% (312/358)\u001b[K\rremote: Compressing objects:  88% (316/358)\u001b[K\rremote: Compressing objects:  89% (319/358)\u001b[K\rremote: Compressing objects:  90% (323/358)\u001b[K\rremote: Compressing objects:  91% (326/358)\u001b[K\rremote: Compressing objects:  92% (330/358)\u001b[K\rremote: Compressing objects:  93% (333/358)\u001b[K\rremote: Compressing objects:  94% (337/358)\u001b[K\rremote: Compressing objects:  95% (341/358)\u001b[K\rremote: Compressing objects:  96% (344/358)\u001b[K\rremote: Compressing objects:  97% (348/358)\u001b[K\rremote: Compressing objects:  98% (351/358)\u001b[K\rremote: Compressing objects:  99% (355/358)\u001b[K\rremote: Compressing objects: 100% (358/358)\u001b[K\rremote: Compressing objects: 100% (358/358), done.\u001b[K\n",
            "Receiving objects:   0% (1/610)   \rReceiving objects:   1% (7/610)   \rReceiving objects:   2% (13/610)   \rReceiving objects:   3% (19/610)   \rReceiving objects:   4% (25/610)   \rReceiving objects:   5% (31/610)   \rReceiving objects:   6% (37/610)   \rReceiving objects:   7% (43/610)   \rReceiving objects:   8% (49/610)   \rReceiving objects:   9% (55/610)   \rReceiving objects:  10% (61/610)   \rReceiving objects:  11% (68/610)   \rReceiving objects:  12% (74/610)   \rReceiving objects:  13% (80/610)   \rReceiving objects:  14% (86/610)   \rReceiving objects:  15% (92/610)   \rReceiving objects:  16% (98/610)   \rReceiving objects:  17% (104/610)   \rReceiving objects:  18% (110/610)   \rReceiving objects:  19% (116/610)   \rReceiving objects:  20% (122/610)   \rReceiving objects:  21% (129/610)   \rReceiving objects:  22% (135/610)   \rReceiving objects:  23% (141/610)   \rReceiving objects:  24% (147/610)   \rReceiving objects:  25% (153/610)   \rReceiving objects:  26% (159/610)   \rReceiving objects:  27% (165/610)   \rReceiving objects:  28% (171/610)   \rReceiving objects:  29% (177/610)   \rReceiving objects:  30% (183/610)   \rReceiving objects:  31% (190/610)   \rReceiving objects:  32% (196/610)   \rReceiving objects:  33% (202/610)   \rReceiving objects:  34% (208/610)   \rReceiving objects:  35% (214/610)   \rReceiving objects:  36% (220/610)   \rReceiving objects:  37% (226/610)   \rReceiving objects:  38% (232/610)   \rReceiving objects:  39% (238/610)   \rReceiving objects:  40% (244/610)   \rReceiving objects:  41% (251/610)   \rReceiving objects:  42% (257/610)   \rReceiving objects:  43% (263/610)   \rReceiving objects:  44% (269/610)   \rReceiving objects:  45% (275/610)   \rReceiving objects:  46% (281/610)   \rReceiving objects:  47% (287/610)   \rReceiving objects:  48% (293/610)   \rReceiving objects:  49% (299/610)   \rReceiving objects:  50% (305/610)   \rReceiving objects:  51% (312/610)   \rReceiving objects:  52% (318/610)   \rReceiving objects:  53% (324/610)   \rReceiving objects:  54% (330/610)   \rReceiving objects:  55% (336/610)   \rReceiving objects:  56% (342/610)   \rReceiving objects:  57% (348/610)   \rReceiving objects:  58% (354/610)   \rReceiving objects:  59% (360/610)   \rReceiving objects:  60% (366/610)   \rReceiving objects:  61% (373/610)   \rReceiving objects:  62% (379/610)   \rReceiving objects:  63% (385/610)   \rReceiving objects:  64% (391/610)   \rReceiving objects:  65% (397/610)   \rReceiving objects:  66% (403/610)   \rReceiving objects:  67% (409/610)   \rReceiving objects:  68% (415/610)   \rReceiving objects:  69% (421/610)   \rReceiving objects:  70% (427/610)   \rReceiving objects:  71% (434/610)   \rReceiving objects:  72% (440/610)   \rReceiving objects:  73% (446/610)   \rReceiving objects:  74% (452/610)   \rReceiving objects:  75% (458/610)   \rReceiving objects:  76% (464/610)   \rReceiving objects:  77% (470/610)   \rReceiving objects:  78% (476/610)   \rReceiving objects:  79% (482/610)   \rReceiving objects:  80% (488/610)   \rReceiving objects:  81% (495/610)   \rReceiving objects:  82% (501/610)   \rReceiving objects:  83% (507/610)   \rReceiving objects:  84% (513/610)   \rReceiving objects:  85% (519/610)   \rReceiving objects:  86% (525/610)   \rReceiving objects:  87% (531/610)   \rReceiving objects:  88% (537/610)   \rReceiving objects:  89% (543/610)   \rReceiving objects:  90% (549/610)   \rReceiving objects:  91% (556/610)   \rReceiving objects:  92% (562/610)   \rReceiving objects:  93% (568/610)   \rReceiving objects:  94% (574/610)   \rReceiving objects:  95% (580/610)   \rremote: Total 610 (delta 59), reused 348 (delta 27), pack-reused 224\u001b[K\n",
            "Receiving objects:  96% (586/610)   \rReceiving objects:  97% (592/610)   \rReceiving objects:  98% (598/610)   \rReceiving objects:  99% (604/610)   \rReceiving objects: 100% (610/610)   \rReceiving objects: 100% (610/610), 1.13 MiB | 5.19 MiB/s, done.\n",
            "Resolving deltas:   0% (0/186)   \rResolving deltas:   1% (3/186)   \rResolving deltas:   2% (4/186)   \rResolving deltas:   5% (10/186)   \rResolving deltas:  13% (25/186)   \rResolving deltas:  14% (27/186)   \rResolving deltas:  17% (32/186)   \rResolving deltas:  19% (36/186)   \rResolving deltas:  22% (41/186)   \rResolving deltas:  24% (45/186)   \rResolving deltas:  26% (50/186)   \rResolving deltas:  31% (59/186)   \rResolving deltas:  32% (60/186)   \rResolving deltas:  44% (83/186)   \rResolving deltas:  51% (96/186)   \rResolving deltas:  63% (119/186)   \rResolving deltas:  65% (121/186)   \rResolving deltas:  67% (126/186)   \rResolving deltas:  68% (127/186)   \rResolving deltas:  69% (130/186)   \rResolving deltas:  71% (133/186)   \rResolving deltas:  81% (151/186)   \rResolving deltas:  82% (154/186)   \rResolving deltas:  83% (156/186)   \rResolving deltas:  84% (158/186)   \rResolving deltas:  87% (162/186)   \rResolving deltas:  91% (171/186)   \rResolving deltas:  93% (173/186)   \rResolving deltas:  94% (175/186)   \rResolving deltas:  96% (179/186)   \rResolving deltas:  97% (181/186)   \rResolving deltas: 100% (186/186)   \rResolving deltas: 100% (186/186), done.\n"
          ],
          "name": "stdout"
        }
      ]
    },
    {
      "cell_type": "code",
      "metadata": {
        "id": "pGHwEscK_EHK",
        "colab_type": "code",
        "colab": {
          "base_uri": "https://localhost:8080/",
          "height": 34
        },
        "outputId": "af367a8b-fa42-4de0-bba0-29b75a7db6a1"
      },
      "source": [
        "%cd AMOSA"
      ],
      "execution_count": 8,
      "outputs": [
        {
          "output_type": "stream",
          "text": [
            "/content/AMOSA\n"
          ],
          "name": "stdout"
        }
      ]
    },
    {
      "cell_type": "code",
      "metadata": {
        "id": "YHXeuVLj_wuj",
        "colab_type": "code",
        "colab": {
          "base_uri": "https://localhost:8080/",
          "height": 51
        },
        "outputId": "9f742b59-46da-46a6-dfb8-a29e5da08e93"
      },
      "source": [
        "!git checkout convergenceTesting"
      ],
      "execution_count": 10,
      "outputs": [
        {
          "output_type": "stream",
          "text": [
            "Branch 'convergenceTesting' set up to track remote branch 'convergenceTesting' from 'origin'.\n",
            "Switched to a new branch 'convergenceTesting'\n"
          ],
          "name": "stdout"
        }
      ]
    },
    {
      "cell_type": "code",
      "metadata": {
        "id": "hDhjuyUQ_5p1",
        "colab_type": "code",
        "colab": {
          "base_uri": "https://localhost:8080/",
          "height": 816
        },
        "outputId": "e18249ef-8364-4a93-e083-cb972c1727ea"
      },
      "source": [
        "!bash experiment.sh DTLZ1 3 0 true_pareto_fronts/DTLZ1\\(3\\).csv"
      ],
      "execution_count": 13,
      "outputs": [
        {
          "output_type": "stream",
          "text": [
            "\n",
            "DTLZ1(3) algo:0 iteration:1 |||||||||||||||||||||||||||||||||||||||||||||||||||||||||||||||||||||||||||||||||||||\n",
            "Test function name:  DTLZ1\n",
            "Number of objective functions:  3\n",
            "Number of variables: 7\n",
            "Hard-limit:  91\n",
            "Soft-limit:  109\n",
            "cooling rate:  0.9\n",
            "[0.0, 0.0, 0.0, 0.0, 0.0, 0.0, 0.0]\n",
            "[1.0, 1.0, 1.0, 1.0, 1.0, 1.0, 1.0]\n",
            "Traceback (most recent call last):\n",
            "  File \"./amosa_real.py\", line 96, in <module>\n",
            "    runAMOSA(amosaParams)\n",
            "  File \"/content/AMOSA/main_process.py\", line 68, in runAMOSA\n",
            "    consoleprint(1,i)\n",
            "  File \"/content/AMOSA/main_process.py\", line 48, in consoleprint\n",
            "    print(  'iteration: ' + str(i) +'\\t\\t'+ 'case ' + str(case) + '\\t'+ str(tt) + 'th temp \\t Temperature: ' + '%.10f'%t  + '\\t\\t'+ 'archivesize: ' + str(amosaParams.i_archivesize), end='\\r')\n",
            "KeyboardInterrupt\n",
            "Traceback (most recent call last):\n",
            "  File \"./convergence.py\", line 46, in <module>\n",
            "    with open(sys.argv[2], \"r\") as fp:\n",
            "FileNotFoundError: [Errno 2] No such file or directory: './results/AMOSA-DTLZ1(3)/plots/run1.csv'\n",
            "convergence : \n",
            "Traceback (most recent call last):\n",
            "  File \"./hypervolume.py\", line 60, in <module>\n",
            "    with open(sys.argv[2], \"r\") as fp:\n",
            "FileNotFoundError: [Errno 2] No such file or directory: './results/AMOSA-DTLZ1(3)/plots/run1.csv'\n",
            "hypervolume : \n",
            "\n",
            "DTLZ1(3) algo:0 iteration:2 |||||||||||||||||||||||||||||||||||||||||||||||||||||||||||||||||||||||||||||||||||||\n",
            "Test function name:  DTLZ1\n",
            "Number of objective functions:  3\n",
            "Number of variables: 7\n",
            "Hard-limit:  91\n",
            "Soft-limit:  109\n",
            "cooling rate:  0.9\n",
            "[0.0, 0.0, 0.0, 0.0, 0.0, 0.0, 0.0]\n",
            "[1.0, 1.0, 1.0, 1.0, 1.0, 1.0, 1.0]\n",
            "Traceback (most recent call last):\n",
            "  File \"./amosa_real.py\", line 96, in <module>\n",
            "    runAMOSA(amosaParams)\n",
            "  File \"/content/AMOSA/main_process.py\", line 184, in runAMOSA\n",
            "    consoleprint(2,i)\n",
            "  File \"/content/AMOSA/main_process.py\", line 48, in consoleprint\n",
            "    print(  'iteration: ' + str(i) +'\\t\\t'+ 'case ' + str(case) + '\\t'+ str(tt) + 'th temp \\t Temperature: ' + '%.10f'%t  + '\\t\\t'+ 'archivesize: ' + str(amosaParams.i_archivesize), end='\\r')\n",
            "KeyboardInterrupt\n",
            "^C\n"
          ],
          "name": "stdout"
        }
      ]
    },
    {
      "cell_type": "code",
      "metadata": {
        "id": "_eeiFD_JBxKr",
        "colab_type": "code",
        "colab": {
          "base_uri": "https://localhost:8080/",
          "height": 153
        },
        "outputId": "a0f3bfe2-49ec-45bb-8d2f-9840ec6a8e13"
      },
      "source": [
        "%ls"
      ],
      "execution_count": 14,
      "outputs": [
        {
          "output_type": "stream",
          "text": [
            "AMOSA.ipynb          \u001b[0m\u001b[01;34mexperiment_results\u001b[0m/   real_mutate_ind.py\n",
            "amosa.py             \u001b[01;32mexperiment.sh\u001b[0m*        real_time_plot.py\n",
            "\u001b[01;32mamosa_real.py\u001b[0m*       \u001b[01;32mhypervolume.py\u001b[0m*       ref_points_generator.py\n",
            "clustering.py        init_sol.py           \u001b[01;34mresults\u001b[0m/\n",
            "\u001b[01;32mconvergence.py\u001b[0m*      main_process.py       test_func.py\n",
            "creating_archive.py  objective_values.txt  \u001b[01;34mtrue_pareto_fronts\u001b[0m/\n",
            "decision_values.txt  \u001b[01;32mplot.py\u001b[0m*\n",
            "dominance.py         \u001b[01;34m__pycache__\u001b[0m/\n"
          ],
          "name": "stdout"
        }
      ]
    },
    {
      "cell_type": "code",
      "metadata": {
        "id": "2MHVNsaNByeq",
        "colab_type": "code",
        "colab": {
          "base_uri": "https://localhost:8080/",
          "height": 34
        },
        "outputId": "b368162a-5af2-4a25-cc47-293069c9884a"
      },
      "source": [
        "%cd results/"
      ],
      "execution_count": 15,
      "outputs": [
        {
          "output_type": "stream",
          "text": [
            "/content/AMOSA/results\n"
          ],
          "name": "stdout"
        }
      ]
    },
    {
      "cell_type": "code",
      "metadata": {
        "id": "lDbgMu3FB3tn",
        "colab_type": "code",
        "colab": {
          "base_uri": "https://localhost:8080/",
          "height": 34
        },
        "outputId": "986b3334-b3b4-4aad-f72f-63890e81ce3c"
      },
      "source": [
        "%ls"
      ],
      "execution_count": 16,
      "outputs": [
        {
          "output_type": "stream",
          "text": [
            "\u001b[0m\u001b[01;34m'AMOSA-DTLZ1(3)'\u001b[0m/\n"
          ],
          "name": "stdout"
        }
      ]
    }
  ]
}